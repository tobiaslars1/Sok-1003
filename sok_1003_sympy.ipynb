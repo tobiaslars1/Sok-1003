{
 "cells": [
  {
   "cell_type": "code",
   "execution_count": 167,
   "id": "9c2b80f8-40ec-49eb-8203-4cffbf06990c",
   "metadata": {
    "tags": []
   },
   "outputs": [],
   "source": [
    "##Importerer pakker.\n",
    "import sympy as sp\n",
    "from sympy.solvers import solve"
   ]
  },
  {
   "cell_type": "code",
   "execution_count": 168,
   "id": "c8fbcc72-a69a-442f-9ad4-08810624f7b4",
   "metadata": {},
   "outputs": [],
   "source": [
    "x, y = sp.symbols(\"x y\") #symbol\n",
    "unknown = [x, y] #ukjente"
   ]
  },
  {
   "cell_type": "code",
   "execution_count": 249,
   "id": "b75030a4-581b-4ed6-9d81-e0aea1294df5",
   "metadata": {},
   "outputs": [],
   "source": [
    "## Likningssett 15"
   ]
  },
  {
   "cell_type": "code",
   "execution_count": 170,
   "id": "75361130-ac11-45db-bad3-49436b40d985",
   "metadata": {
    "tags": []
   },
   "outputs": [
    {
     "data": {
      "text/plain": [
       "{x: 4, y: 0}"
      ]
     },
     "execution_count": 170,
     "metadata": {},
     "output_type": "execute_result"
    }
   ],
   "source": [
    "#2a)\n",
    "\n",
    "eq_1 = sp.Eq(3*x-12, -6*y)\n",
    "eq_2 = sp.Eq(4*x-8*y, 16)\n",
    "sp.solve([eq_1, eq_2], unknown)"
   ]
  },
  {
   "cell_type": "code",
   "execution_count": 171,
   "id": "1ded0d1f-5a0c-4917-8a73-4a02291689fd",
   "metadata": {},
   "outputs": [
    {
     "data": {
      "text/plain": [
       "[(-15/2, 31/4), (2, 3)]"
      ]
     },
     "execution_count": 171,
     "metadata": {},
     "output_type": "execute_result"
    }
   ],
   "source": [
    "#2b)\n",
    "\n",
    "eq_1 = sp.Eq(x**2+4*x-3, 3*y)\n",
    "eq_2 = sp.Eq(2*y, 8 - x)\n",
    "sp.solve([eq_1, eq_2], unknown)"
   ]
  },
  {
   "cell_type": "code",
   "execution_count": 172,
   "id": "2c891096-91be-4451-97aa-9aaf10a6c643",
   "metadata": {},
   "outputs": [],
   "source": [
    "## Likningssett 16 "
   ]
  },
  {
   "cell_type": "code",
   "execution_count": 173,
   "id": "5538231c-0cbb-4993-9f32-fc1373bd9f67",
   "metadata": {},
   "outputs": [
    {
     "data": {
      "text/plain": [
       "{x: 2, y: 2}"
      ]
     },
     "execution_count": 173,
     "metadata": {},
     "output_type": "execute_result"
    }
   ],
   "source": [
    "#1a) \n",
    "\n",
    "eq_1 = sp.Eq(4*x+2*y, 12)\n",
    "eq_2 = sp.Eq(6*x-2*y, 8)\n",
    "sp.solve([eq_1, eq_2], unknown)"
   ]
  },
  {
   "cell_type": "code",
   "execution_count": 174,
   "id": "35694fe9-c86e-48c8-a789-2b364659930b",
   "metadata": {},
   "outputs": [
    {
     "data": {
      "text/plain": [
       "[(0, -5), (12, 1)]"
      ]
     },
     "execution_count": 174,
     "metadata": {},
     "output_type": "execute_result"
    }
   ],
   "source": [
    "#1b)\n",
    "\n",
    "eq_1 = sp.Eq(2*x+y**2, 25)\n",
    "eq_2 = sp.Eq(x-2*y, 10)\n",
    "sp.solve([eq_1, eq_2], unknown)"
   ]
  },
  {
   "cell_type": "code",
   "execution_count": 175,
   "id": "e85f1a82-6a77-4065-b2de-990b109fce85",
   "metadata": {},
   "outputs": [
    {
     "data": {
      "text/plain": [
       "{x: 4, y: 2}"
      ]
     },
     "execution_count": 175,
     "metadata": {},
     "output_type": "execute_result"
    }
   ],
   "source": [
    "#2a)\n",
    "\n",
    "eq_1 = sp.Eq(4*x-4*y, 8)\n",
    "eq_2 = sp.Eq(9*x-5*y, 26)\n",
    "sp.solve([eq_1, eq_2], unknown)"
   ]
  },
  {
   "cell_type": "code",
   "execution_count": 176,
   "id": "be45b3f3-bab4-4e68-b6bd-53f34882dea7",
   "metadata": {},
   "outputs": [
    {
     "data": {
      "text/plain": [
       "[(-9, -2*sqrt(3)), (-9, 2*sqrt(3)), (7, -2), (7, 2)]"
      ]
     },
     "execution_count": 176,
     "metadata": {},
     "output_type": "execute_result"
    }
   ],
   "source": [
    "#2b)\n",
    "\n",
    "eq_1 = sp.Eq(x+2*y**2, 15)\n",
    "eq_2 = sp.Eq(x**2-4*y**2, 33)\n",
    "sp.solve([eq_1, eq_2], unknown)"
   ]
  },
  {
   "cell_type": "code",
   "execution_count": 177,
   "id": "ce6de0ab-a727-44ec-bc8a-8ae53270eeef",
   "metadata": {},
   "outputs": [],
   "source": [
    "# Likningssett 17"
   ]
  },
  {
   "cell_type": "code",
   "execution_count": 178,
   "id": "92ae243e-a55e-466a-a674-38787be4f111",
   "metadata": {},
   "outputs": [
    {
     "data": {
      "text/plain": [
       "[(0, -4), (0, 4), (15, -1), (15, 1)]"
      ]
     },
     "execution_count": 178,
     "metadata": {},
     "output_type": "execute_result"
    }
   ],
   "source": [
    "#1a)\n",
    " \n",
    "eq_1 = sp.Eq(x*y**2-x, 0)\n",
    "eq_2 = sp.Eq(x+y**2, 16)\n",
    "sp.solve([eq_1, eq_2], unknown)"
   ]
  },
  {
   "cell_type": "code",
   "execution_count": 179,
   "id": "12ba7507-007e-4120-9f87-c5cd19629b8a",
   "metadata": {},
   "outputs": [
    {
     "data": {
      "text/plain": [
       "[(-10, 0), (-6, -8), (-6, 8), (6, -8), (6, 8), (10, 0)]"
      ]
     },
     "execution_count": 179,
     "metadata": {},
     "output_type": "execute_result"
    }
   ],
   "source": [
    "#1b)\n",
    "\n",
    "eq_1 = sp.Eq(x**2+y**2, 100)\n",
    "eq_2 = sp.Eq(x**2*y-36*y, 0)\n",
    "sp.solve([eq_1, eq_2], unknown)"
   ]
  },
  {
   "cell_type": "code",
   "execution_count": 180,
   "id": "a4615cee-8cf4-4e3f-ac33-e4672584e94c",
   "metadata": {},
   "outputs": [
    {
     "data": {
      "text/plain": [
       "[(-3, -7), (-3, 7), (0, -sqrt(58)), (0, sqrt(58)), (3, -7), (3, 7)]"
      ]
     },
     "execution_count": 180,
     "metadata": {},
     "output_type": "execute_result"
    }
   ],
   "source": [
    "#2a)\n",
    "\n",
    "eq_1 = sp.Eq(x*y**2-49*x, 0)\n",
    "eq_2 = sp.Eq(x**2+y**2, 58)\n",
    "sp.solve([eq_1, eq_2], unknown)"
   ]
  },
  {
   "cell_type": "code",
   "execution_count": 181,
   "id": "01aeca40-51aa-4706-9838-e7093d26cc8e",
   "metadata": {},
   "outputs": [
    {
     "data": {
      "text/plain": [
       "[(-1.11803398874989, 0.0),\n",
       " (-0.500000000000000, -1.00000000000000),\n",
       " (-0.500000000000000, 1.00000000000000),\n",
       " (1.11803398874989, 0.0)]"
      ]
     },
     "execution_count": 181,
     "metadata": {},
     "output_type": "execute_result"
    }
   ],
   "source": [
    "#2b)\n",
    "\n",
    "eq_1 = sp.Eq(x**2+y**2, 5/4)\n",
    "eq_2 = sp.Eq(2*x*y+y, 0)\n",
    "sp.solve([eq_1, eq_2], unknown)"
   ]
  },
  {
   "cell_type": "code",
   "execution_count": 182,
   "id": "40c3e4c8-d965-4a28-8405-e74bc4f8d25d",
   "metadata": {},
   "outputs": [],
   "source": [
    "# likningssett 19"
   ]
  },
  {
   "cell_type": "code",
   "execution_count": 183,
   "id": "c6391394-0c20-47f1-be33-3aeb3a02fc19",
   "metadata": {},
   "outputs": [
    {
     "data": {
      "text/latex": [
       "$\\displaystyle 5 x^{4}$"
      ],
      "text/plain": [
       "5*x**4"
      ]
     },
     "execution_count": 183,
     "metadata": {},
     "output_type": "execute_result"
    }
   ],
   "source": [
    "# 1a)\n",
    "\n",
    "sp.diff(x**5, x)"
   ]
  },
  {
   "cell_type": "code",
   "execution_count": 184,
   "id": "ff4ec5e8-5f5f-4a59-a08c-63bd34160c61",
   "metadata": {},
   "outputs": [
    {
     "data": {
      "text/latex": [
       "$\\displaystyle 1$"
      ],
      "text/plain": [
       "1"
      ]
     },
     "execution_count": 184,
     "metadata": {},
     "output_type": "execute_result"
    }
   ],
   "source": [
    "# 1b)\n",
    "\n",
    "sp.diff(x+12, x)"
   ]
  },
  {
   "cell_type": "code",
   "execution_count": 185,
   "id": "edf27965-bef7-4a5d-ba5b-9be504e81106",
   "metadata": {},
   "outputs": [
    {
     "data": {
      "text/latex": [
       "$\\displaystyle 3 x^{2} + 8 x$"
      ],
      "text/plain": [
       "3*x**2 + 8*x"
      ]
     },
     "execution_count": 185,
     "metadata": {},
     "output_type": "execute_result"
    }
   ],
   "source": [
    "# 1c)\n",
    "\n",
    "sp.diff(x**3+4*x**2, x)"
   ]
  },
  {
   "cell_type": "code",
   "execution_count": 186,
   "id": "169af96e-a2c0-4211-b9a7-31dfd53bc806",
   "metadata": {},
   "outputs": [
    {
     "data": {
      "text/latex": [
       "$\\displaystyle 6 x^{2}$"
      ],
      "text/plain": [
       "6*x**2"
      ]
     },
     "execution_count": 186,
     "metadata": {},
     "output_type": "execute_result"
    }
   ],
   "source": [
    "# 1d)\n",
    "\n",
    "sp.diff(2*x**3+sp.sqrt(36), x)"
   ]
  },
  {
   "cell_type": "code",
   "execution_count": 187,
   "id": "cb1d99f0-3379-4bc6-a30d-36a055ed0ca4",
   "metadata": {},
   "outputs": [
    {
     "data": {
      "text/latex": [
       "$\\displaystyle \\frac{1}{2 \\sqrt{x}}$"
      ],
      "text/plain": [
       "1/(2*sqrt(x))"
      ]
     },
     "execution_count": 187,
     "metadata": {},
     "output_type": "execute_result"
    }
   ],
   "source": [
    "# 1e)\n",
    "\n",
    "sp.diff(sp.sqrt(x)+5**2, x)"
   ]
  },
  {
   "cell_type": "code",
   "execution_count": 188,
   "id": "2864a212-6bf6-43c0-a9e7-e64326cf2d48",
   "metadata": {},
   "outputs": [
    {
     "data": {
      "text/latex": [
       "$\\displaystyle 3 x^{2} - \\frac{1}{x^{2}}$"
      ],
      "text/plain": [
       "3*x**2 - 1/x**2"
      ]
     },
     "execution_count": 188,
     "metadata": {},
     "output_type": "execute_result"
    }
   ],
   "source": [
    "# 1f)\n",
    "\n",
    "sp.diff(x**3+1/x, x)"
   ]
  },
  {
   "cell_type": "code",
   "execution_count": 189,
   "id": "1df49a02-55b1-48c8-abb3-f25fa7e095a3",
   "metadata": {},
   "outputs": [
    {
     "data": {
      "text/latex": [
       "$\\displaystyle 3 x^{2} - 2 x + 0.25$"
      ],
      "text/plain": [
       "3*x**2 - 2*x + 0.25"
      ]
     },
     "execution_count": 189,
     "metadata": {},
     "output_type": "execute_result"
    }
   ],
   "source": [
    "# 1g) \n",
    "\n",
    "sp.diff(x**3-x**2+1/4*x, x)"
   ]
  },
  {
   "cell_type": "code",
   "execution_count": 190,
   "id": "e009b9cc-142e-4a0c-9301-c55b4a1a266f",
   "metadata": {},
   "outputs": [
    {
     "data": {
      "text/latex": [
       "$\\displaystyle 36 x^{5} - \\frac{1}{x^{2}}$"
      ],
      "text/plain": [
       "36*x**5 - 1/x**2"
      ]
     },
     "execution_count": 190,
     "metadata": {},
     "output_type": "execute_result"
    }
   ],
   "source": [
    "# 2a)\n",
    "\n",
    "sp.diff(1/x+6*x**6, x)"
   ]
  },
  {
   "cell_type": "code",
   "execution_count": 191,
   "id": "d4f4db26-659e-4667-9f4d-492eaa4af0be",
   "metadata": {},
   "outputs": [
    {
     "data": {
      "text/latex": [
       "$\\displaystyle 1.5 x^{2} - 1$"
      ],
      "text/plain": [
       "1.5*x**2 - 1"
      ]
     },
     "execution_count": 191,
     "metadata": {},
     "output_type": "execute_result"
    }
   ],
   "source": [
    "# 2b)\n",
    "\n",
    "sp.diff(-x+1/2*x**3, x)"
   ]
  },
  {
   "cell_type": "code",
   "execution_count": 192,
   "id": "e428cdfd-baab-4789-84cf-39839a70b3e2",
   "metadata": {
    "tags": []
   },
   "outputs": [
    {
     "data": {
      "text/latex": [
       "$\\displaystyle x^{2} + x \\left(2 x + 2\\right) + 2 x - 3$"
      ],
      "text/plain": [
       "x**2 + x*(2*x + 2) + 2*x - 3"
      ]
     },
     "execution_count": 192,
     "metadata": {},
     "output_type": "execute_result"
    }
   ],
   "source": [
    "# 2c)\n",
    "\n",
    "sp.diff(x*(x**2+2*x-3), x)"
   ]
  },
  {
   "cell_type": "code",
   "execution_count": 193,
   "id": "89df234a-d767-4c5e-aaa9-cedd26f88337",
   "metadata": {},
   "outputs": [],
   "source": [
    "# Likningssett 20"
   ]
  },
  {
   "cell_type": "code",
   "execution_count": 194,
   "id": "8bafefe3-1522-4d5e-8468-ee9373cf8ece",
   "metadata": {},
   "outputs": [
    {
     "data": {
      "text/latex": [
       "$\\displaystyle 9 x^{8}$"
      ],
      "text/plain": [
       "9*x**8"
      ]
     },
     "execution_count": 194,
     "metadata": {},
     "output_type": "execute_result"
    }
   ],
   "source": [
    "# 1e)\n",
    "\n",
    "sp.diff(x**4*x**5, x)"
   ]
  },
  {
   "cell_type": "code",
   "execution_count": 195,
   "id": "1f2cd3e9-30bb-45b5-b4da-92b44fa79e6b",
   "metadata": {},
   "outputs": [
    {
     "data": {
      "text/latex": [
       "$\\displaystyle \\frac{3 \\sqrt{x}}{2}$"
      ],
      "text/plain": [
       "3*sqrt(x)/2"
      ]
     },
     "execution_count": 195,
     "metadata": {},
     "output_type": "execute_result"
    }
   ],
   "source": [
    "# 1f)\n",
    "\n",
    "sp.diff(x*sp.sqrt(x), x)"
   ]
  },
  {
   "cell_type": "code",
   "execution_count": 196,
   "id": "a81b0bd9-82ec-45c8-8983-1bfe5dbb639f",
   "metadata": {},
   "outputs": [
    {
     "data": {
      "text/latex": [
       "$\\displaystyle - \\frac{6}{x^{4}}$"
      ],
      "text/plain": [
       "-6/x**4"
      ]
     },
     "execution_count": 196,
     "metadata": {},
     "output_type": "execute_result"
    }
   ],
   "source": [
    "# 1g)\n",
    "\n",
    "sp.diff(2/x**3, x)"
   ]
  },
  {
   "cell_type": "code",
   "execution_count": 197,
   "id": "64107832-6822-4a7d-b037-4157ff2d9b44",
   "metadata": {},
   "outputs": [
    {
     "data": {
      "text/latex": [
       "$\\displaystyle 2 x + \\frac{6}{x^{4}}$"
      ],
      "text/plain": [
       "2*x + 6/x**4"
      ]
     },
     "execution_count": 197,
     "metadata": {},
     "output_type": "execute_result"
    }
   ],
   "source": [
    "# 1h)\n",
    "\n",
    "sp.diff(x**2-2/x**3, x)"
   ]
  },
  {
   "cell_type": "code",
   "execution_count": 198,
   "id": "db2004d2-f46c-48e6-b4be-40ac762e5fd8",
   "metadata": {},
   "outputs": [
    {
     "data": {
      "text/latex": [
       "$\\displaystyle \\frac{13 x^{\\frac{11}{2}}}{2}$"
      ],
      "text/plain": [
       "13*x**(11/2)/2"
      ]
     },
     "execution_count": 198,
     "metadata": {},
     "output_type": "execute_result"
    }
   ],
   "source": [
    "# 1i)\n",
    "\n",
    "sp.diff(sp.sqrt(x)*x**6)"
   ]
  },
  {
   "cell_type": "code",
   "execution_count": 199,
   "id": "cfa0baa0-9840-46db-bef2-abbf30128b53",
   "metadata": {},
   "outputs": [
    {
     "data": {
      "text/latex": [
       "$\\displaystyle 3 x^{2} + 1$"
      ],
      "text/plain": [
       "3*x**2 + 1"
      ]
     },
     "execution_count": 199,
     "metadata": {},
     "output_type": "execute_result"
    }
   ],
   "source": [
    "# 1j)\n",
    "\n",
    "sp.diff(x*(x**2+1), x)"
   ]
  },
  {
   "cell_type": "code",
   "execution_count": 200,
   "id": "4c5ec1fb-e880-4083-97c9-639c4fd93084",
   "metadata": {},
   "outputs": [
    {
     "data": {
      "text/latex": [
       "$\\displaystyle 2 x - \\frac{12}{x^{4}}$"
      ],
      "text/plain": [
       "2*x - 12/x**4"
      ]
     },
     "execution_count": 200,
     "metadata": {},
     "output_type": "execute_result"
    }
   ],
   "source": [
    "# 1k)\n",
    "\n",
    "sp.diff(x**2+4/x**3-1, x)"
   ]
  },
  {
   "cell_type": "code",
   "execution_count": 201,
   "id": "a394eaa0-11e2-4bed-9d8c-379354cda2b9",
   "metadata": {},
   "outputs": [
    {
     "data": {
      "text/latex": [
       "$\\displaystyle 2$"
      ],
      "text/plain": [
       "2"
      ]
     },
     "execution_count": 201,
     "metadata": {},
     "output_type": "execute_result"
    }
   ],
   "source": [
    "# 1l)\n",
    "\n",
    "sp.diff(x**2/x**2+2*x, x)"
   ]
  },
  {
   "cell_type": "code",
   "execution_count": 202,
   "id": "50f676f3-f3e8-4e72-9b6e-6847307893a7",
   "metadata": {},
   "outputs": [
    {
     "data": {
      "text/latex": [
       "$\\displaystyle 2 x + 4 - \\frac{2}{x^{2}}$"
      ],
      "text/plain": [
       "2*x + 4 - 2/x**2"
      ]
     },
     "execution_count": 202,
     "metadata": {},
     "output_type": "execute_result"
    }
   ],
   "source": [
    "# 1m)\n",
    "\n",
    "sp.diff(x**2+4*x+2/x-2, x)"
   ]
  },
  {
   "cell_type": "code",
   "execution_count": 203,
   "id": "850dee2e-b2fa-499e-a39b-e893575c20f7",
   "metadata": {},
   "outputs": [
    {
     "data": {
      "text/latex": [
       "$\\displaystyle 3 x^{2} + \\frac{2}{x^{2}}$"
      ],
      "text/plain": [
       "3*x**2 + 2/x**2"
      ]
     },
     "execution_count": 203,
     "metadata": {},
     "output_type": "execute_result"
    }
   ],
   "source": [
    "# 2a)\n",
    "\n",
    "sp.diff(x**3-2*x/x**2-1, x)"
   ]
  },
  {
   "cell_type": "code",
   "execution_count": 204,
   "id": "b6157a09-1b78-4634-8d05-2316f9dd44bd",
   "metadata": {},
   "outputs": [
    {
     "data": {
      "text/latex": [
       "$\\displaystyle 4 x^{3}$"
      ],
      "text/plain": [
       "4*x**3"
      ]
     },
     "execution_count": 204,
     "metadata": {},
     "output_type": "execute_result"
    }
   ],
   "source": [
    "# 2b)\n",
    "\n",
    "solved = sp.diff((x**2+1)*(x**2-1), x)\n",
    "sp.simplify(solved)"
   ]
  },
  {
   "cell_type": "code",
   "execution_count": 205,
   "id": "b725e59c-ead0-47b4-9b7f-fe973b8957a1",
   "metadata": {},
   "outputs": [
    {
     "data": {
      "text/latex": [
       "$\\displaystyle 3 + \\frac{12}{x^{4}}$"
      ],
      "text/plain": [
       "3 + 12/x**4"
      ]
     },
     "execution_count": 205,
     "metadata": {},
     "output_type": "execute_result"
    }
   ],
   "source": [
    "# 2c)\n",
    "\n",
    "sp.diff(3*x-4/x**3+7, x)"
   ]
  },
  {
   "cell_type": "code",
   "execution_count": 206,
   "id": "06e5c3e1-ed02-4669-a15b-a0ea1e1e6dff",
   "metadata": {},
   "outputs": [],
   "source": [
    "# Likningssett 21"
   ]
  },
  {
   "cell_type": "code",
   "execution_count": 207,
   "id": "e944952c-eb99-4c92-a747-4c8d0501d427",
   "metadata": {},
   "outputs": [
    {
     "data": {
      "text/latex": [
       "$\\displaystyle \\left(15 x^{2} + 30\\right) \\left(x^{3} + 6 x\\right)^{4}$"
      ],
      "text/plain": [
       "(15*x**2 + 30)*(x**3 + 6*x)**4"
      ]
     },
     "execution_count": 207,
     "metadata": {},
     "output_type": "execute_result"
    }
   ],
   "source": [
    "# 1a)\n",
    "\n",
    "sp.diff((x**3+6*x)**5, x)"
   ]
  },
  {
   "cell_type": "code",
   "execution_count": 208,
   "id": "cc75ac45-3e56-424b-b82b-a4172d71d3c5",
   "metadata": {},
   "outputs": [
    {
     "data": {
      "text/latex": [
       "$\\displaystyle \\frac{2 x}{\\sqrt{2 x^{2} + 5}}$"
      ],
      "text/plain": [
       "2*x/sqrt(2*x**2 + 5)"
      ]
     },
     "execution_count": 208,
     "metadata": {},
     "output_type": "execute_result"
    }
   ],
   "source": [
    "# 1b)\n",
    "\n",
    "sp.diff(sp.sqrt(2*x**2+5), x)"
   ]
  },
  {
   "cell_type": "code",
   "execution_count": 209,
   "id": "9e89b6da-f855-48a1-be3b-35e8e77b435f",
   "metadata": {},
   "outputs": [
    {
     "data": {
      "text/latex": [
       "$\\displaystyle - \\frac{8 \\left(3 + \\frac{2}{x}\\right)^{3}}{x^{2}}$"
      ],
      "text/plain": [
       "-8*(3 + 2/x)**3/x**2"
      ]
     },
     "execution_count": 209,
     "metadata": {},
     "output_type": "execute_result"
    }
   ],
   "source": [
    "# 1c)\n",
    "\n",
    "sp.diff((2*x/x**2+3)**4, x)"
   ]
  },
  {
   "cell_type": "code",
   "execution_count": 210,
   "id": "2ff9c2e1-c83f-4d65-9aca-8d3b0492969b",
   "metadata": {},
   "outputs": [
    {
     "data": {
      "text/latex": [
       "$\\displaystyle 12.0 x^{3} \\left(2 x^{4} + 9\\right)^{0.5}$"
      ],
      "text/plain": [
       "12.0*x**3*(2*x**4 + 9)**0.5"
      ]
     },
     "execution_count": 210,
     "metadata": {},
     "output_type": "execute_result"
    }
   ],
   "source": [
    "# 1d)\n",
    "\n",
    "sp.diff((2*x**4+9)**(3/2), x)"
   ]
  },
  {
   "cell_type": "code",
   "execution_count": 211,
   "id": "b01a223d-7586-4b13-b9c9-8213ebd4ec3a",
   "metadata": {},
   "outputs": [
    {
     "data": {
      "text/latex": [
       "$\\displaystyle - \\frac{x}{\\left(x^{2} + 1\\right)^{\\frac{3}{2}}}$"
      ],
      "text/plain": [
       "-x/(x**2 + 1)**(3/2)"
      ]
     },
     "execution_count": 211,
     "metadata": {},
     "output_type": "execute_result"
    }
   ],
   "source": [
    "# 1e)\n",
    "\n",
    "sp.diff(1/sp.sqrt(1+x**2), x)"
   ]
  },
  {
   "cell_type": "code",
   "execution_count": 212,
   "id": "c8a3a963-97c2-4e25-8d44-8fb0d09af634",
   "metadata": {},
   "outputs": [
    {
     "data": {
      "text/latex": [
       "$\\displaystyle x^{2} \\cdot \\left(6 x + 6\\right) \\left(x^{2} + 2 x\\right)^{2} + 2 x \\left(x^{2} + 2 x\\right)^{3}$"
      ],
      "text/plain": [
       "x**2*(6*x + 6)*(x**2 + 2*x)**2 + 2*x*(x**2 + 2*x)**3"
      ]
     },
     "execution_count": 212,
     "metadata": {},
     "output_type": "execute_result"
    }
   ],
   "source": [
    "# 1f)\n",
    "\n",
    "sp.diff(x**2*(x**2+2*x)**3, x)"
   ]
  },
  {
   "cell_type": "code",
   "execution_count": 213,
   "id": "83dc7746-97e3-4951-ae87-d30095b4f249",
   "metadata": {},
   "outputs": [
    {
     "data": {
      "text/latex": [
       "$\\displaystyle \\frac{x^{2} \\left(x - 1\\right)}{\\sqrt{x^{2} - 2 x}} + 2 x \\sqrt{x^{2} - 2 x}$"
      ],
      "text/plain": [
       "x**2*(x - 1)/sqrt(x**2 - 2*x) + 2*x*sqrt(x**2 - 2*x)"
      ]
     },
     "execution_count": 213,
     "metadata": {},
     "output_type": "execute_result"
    }
   ],
   "source": [
    "# 1g)\n",
    "\n",
    "sp.diff(x**2*sp.sqrt(x**2-2*x), x)"
   ]
  },
  {
   "cell_type": "code",
   "execution_count": 214,
   "id": "4cbb9f59-c33e-48de-becf-2e0f532b47ab",
   "metadata": {},
   "outputs": [
    {
     "data": {
      "text/latex": [
       "$\\displaystyle \\frac{x^{2} \\left(- 6 x - 3\\right)}{\\left(x^{2} + x\\right)^{4}} + \\frac{2 x}{\\left(x^{2} + x\\right)^{3}}$"
      ],
      "text/plain": [
       "x**2*(-6*x - 3)/(x**2 + x)**4 + 2*x/(x**2 + x)**3"
      ]
     },
     "execution_count": 214,
     "metadata": {},
     "output_type": "execute_result"
    }
   ],
   "source": [
    "# 1h)\n",
    "\n",
    "sp.diff(x**2/(x**2+x)**3, x)"
   ]
  },
  {
   "cell_type": "code",
   "execution_count": 215,
   "id": "9850c837-e396-4470-a830-8ff105f2ba57",
   "metadata": {},
   "outputs": [
    {
     "data": {
      "text/latex": [
       "$\\displaystyle 9 x^{2} \\left(x^{2} + 1\\right)^{2} \\left(x^{3} + 1\\right)^{2} + 4 x \\left(x^{2} + 1\\right) \\left(x^{3} + 1\\right)^{3}$"
      ],
      "text/plain": [
       "9*x**2*(x**2 + 1)**2*(x**3 + 1)**2 + 4*x*(x**2 + 1)*(x**3 + 1)**3"
      ]
     },
     "execution_count": 215,
     "metadata": {},
     "output_type": "execute_result"
    }
   ],
   "source": [
    "# 1i)\n",
    "\n",
    "sp.diff((x**2+1)**2*(x**3+1)**3, x)"
   ]
  },
  {
   "cell_type": "code",
   "execution_count": 216,
   "id": "c8a34c6a-1017-4ce8-9e79-251873df52b6",
   "metadata": {},
   "outputs": [
    {
     "data": {
      "text/latex": [
       "$\\displaystyle \\frac{\\left(24 x + 8\\right) \\sqrt{\\left(3 x^{2} + 2 x\\right)^{4}}}{2 \\cdot \\left(3 x^{2} + 2 x\\right)}$"
      ],
      "text/plain": [
       "(24*x + 8)*sqrt((3*x**2 + 2*x)**4)/(2*(3*x**2 + 2*x))"
      ]
     },
     "execution_count": 216,
     "metadata": {},
     "output_type": "execute_result"
    }
   ],
   "source": [
    "# 2a)\n",
    "\n",
    "sp.diff(sp.sqrt((3*x**2+2*x)**4), x)"
   ]
  },
  {
   "cell_type": "code",
   "execution_count": 217,
   "id": "cdc54fa2-e1e9-492d-9ca1-65acb013604b",
   "metadata": {},
   "outputs": [
    {
     "data": {
      "text/latex": [
       "$\\displaystyle 15 x^{2} \\left(x^{2} + 3\\right)^{4} \\left(x^{3} + 3\\right)^{4} + 8 x \\left(x^{2} + 3\\right)^{3} \\left(x^{3} + 3\\right)^{5}$"
      ],
      "text/plain": [
       "15*x**2*(x**2 + 3)**4*(x**3 + 3)**4 + 8*x*(x**2 + 3)**3*(x**3 + 3)**5"
      ]
     },
     "execution_count": 217,
     "metadata": {},
     "output_type": "execute_result"
    }
   ],
   "source": [
    "# 2b)\n",
    "\n",
    "sp.diff((x**3+3)**5*(x**2+3)**4, x)"
   ]
  },
  {
   "cell_type": "code",
   "execution_count": 218,
   "id": "b8aaea13-605e-4e82-ab5b-a2d94f9a6780",
   "metadata": {},
   "outputs": [
    {
     "data": {
      "text/latex": [
       "$\\displaystyle \\frac{x^{3}}{\\sqrt{x^{2} + 1}} + 2 x \\sqrt{x^{2} + 1}$"
      ],
      "text/plain": [
       "x**3/sqrt(x**2 + 1) + 2*x*sqrt(x**2 + 1)"
      ]
     },
     "execution_count": 218,
     "metadata": {},
     "output_type": "execute_result"
    }
   ],
   "source": [
    "# 2c)\n",
    "\n",
    "sp.diff(sp.sqrt(x**2+1)*x**2, x)"
   ]
  },
  {
   "cell_type": "code",
   "execution_count": 219,
   "id": "a018e16c-3761-437f-ae69-5c17302ba560",
   "metadata": {},
   "outputs": [
    {
     "data": {
      "text/latex": [
       "$\\displaystyle \\frac{\\left(18 x + 6\\right) \\left(3 x^{2} + 2 x\\right)^{2}}{x^{2}} - \\frac{2 \\left(3 x^{2} + 2 x\\right)^{3}}{x^{3}}$"
      ],
      "text/plain": [
       "(18*x + 6)*(3*x**2 + 2*x)**2/x**2 - 2*(3*x**2 + 2*x)**3/x**3"
      ]
     },
     "execution_count": 219,
     "metadata": {},
     "output_type": "execute_result"
    }
   ],
   "source": [
    "# 2d)\n",
    "\n",
    "sp.diff((2*x+3*x**2)**3/x**2, x)"
   ]
  },
  {
   "cell_type": "code",
   "execution_count": 220,
   "id": "1c6d6f25-2a85-4447-a3a0-9a1b1c94efd9",
   "metadata": {},
   "outputs": [
    {
     "data": {
      "text/latex": [
       "$\\displaystyle \\frac{2 \\cdot 3^{\\sqrt{x^{4} - 5}} x^{3} \\log{\\left(3 \\right)}}{\\sqrt{x^{4} - 5}}$"
      ],
      "text/plain": [
       "2*3**(sqrt(x**4 - 5))*x**3*log(3)/sqrt(x**4 - 5)"
      ]
     },
     "execution_count": 220,
     "metadata": {},
     "output_type": "execute_result"
    }
   ],
   "source": [
    "# 2e)\n",
    "\n",
    "sp.diff(3**sp.sqrt(x**4-5, x))"
   ]
  },
  {
   "cell_type": "code",
   "execution_count": 221,
   "id": "743473a6-c792-475f-9460-1baec35049ef",
   "metadata": {},
   "outputs": [
    {
     "data": {
      "text/latex": [
       "$\\displaystyle - \\frac{2 x^{6}}{\\left(x^{4} - 1\\right)^{\\frac{3}{2}}} + \\frac{3 x^{2}}{\\sqrt{x^{4} - 1}}$"
      ],
      "text/plain": [
       "-2*x**6/(x**4 - 1)**(3/2) + 3*x**2/sqrt(x**4 - 1)"
      ]
     },
     "execution_count": 221,
     "metadata": {},
     "output_type": "execute_result"
    }
   ],
   "source": [
    "# 2f)\n",
    "\n",
    "sp.diff(x**3/sp.sqrt(x**4-1), x)"
   ]
  },
  {
   "cell_type": "code",
   "execution_count": 222,
   "id": "15e3c0e2-c89f-4da4-a471-73b82ae880a9",
   "metadata": {},
   "outputs": [],
   "source": [
    "# Likningssett 21"
   ]
  },
  {
   "cell_type": "code",
   "execution_count": 223,
   "id": "23de0eba-e85e-470d-b3b1-4dfc5dc51b30",
   "metadata": {},
   "outputs": [
    {
     "data": {
      "text/latex": [
       "$\\displaystyle \\frac{1}{x}$"
      ],
      "text/plain": [
       "1/x"
      ]
     },
     "execution_count": 223,
     "metadata": {},
     "output_type": "execute_result"
    }
   ],
   "source": [
    "# 1a)\n",
    "\n",
    "sp.diff(sp.log(5*x), x)"
   ]
  },
  {
   "cell_type": "code",
   "execution_count": 224,
   "id": "fea56bd4-839e-455a-85b8-e3ea9ec9a9c8",
   "metadata": {},
   "outputs": [
    {
     "data": {
      "text/latex": [
       "$\\displaystyle - 2 e^{- 2 x}$"
      ],
      "text/plain": [
       "-2*exp(-2*x)"
      ]
     },
     "execution_count": 224,
     "metadata": {},
     "output_type": "execute_result"
    }
   ],
   "source": [
    "# 1b)\n",
    "\n",
    "sp.diff(sp.exp(-2*x), x)"
   ]
  },
  {
   "cell_type": "code",
   "execution_count": 225,
   "id": "15f19dd2-9f97-4b6f-b2b5-4fa2ac102402",
   "metadata": {},
   "outputs": [
    {
     "data": {
      "text/latex": [
       "$\\displaystyle \\frac{12}{12 x - 3}$"
      ],
      "text/plain": [
       "12/(12*x - 3)"
      ]
     },
     "execution_count": 225,
     "metadata": {},
     "output_type": "execute_result"
    }
   ],
   "source": [
    "# 1c)\n",
    "\n",
    "sp.diff(sp.log((12*x)-3), x)"
   ]
  },
  {
   "cell_type": "code",
   "execution_count": 226,
   "id": "54ede3d2-c68a-4e7c-800b-fc5324fddfee",
   "metadata": {},
   "outputs": [
    {
     "data": {
      "text/latex": [
       "$\\displaystyle 2^{x} \\log{\\left(2 \\right)}$"
      ],
      "text/plain": [
       "2**x*log(2)"
      ]
     },
     "execution_count": 226,
     "metadata": {},
     "output_type": "execute_result"
    }
   ],
   "source": [
    "# 1d)\n",
    "\n",
    "sp.diff(2**x, x)"
   ]
  },
  {
   "cell_type": "code",
   "execution_count": 227,
   "id": "b11d5178-f9a8-4d69-954e-3487a5aca391",
   "metadata": {},
   "outputs": [
    {
     "data": {
      "text/latex": [
       "$\\displaystyle 3 e^{3 x + 5}$"
      ],
      "text/plain": [
       "3*exp(3*x + 5)"
      ]
     },
     "execution_count": 227,
     "metadata": {},
     "output_type": "execute_result"
    }
   ],
   "source": [
    "# 1e)\n",
    "\n",
    "sp.diff(sp.exp(3*x+5), x)"
   ]
  },
  {
   "cell_type": "code",
   "execution_count": 228,
   "id": "d3a30baf-0e40-4994-9e16-6c3eab6de3f5",
   "metadata": {},
   "outputs": [
    {
     "data": {
      "text/latex": [
       "$\\displaystyle \\frac{5 x^{4}}{x^{5} + 1}$"
      ],
      "text/plain": [
       "5*x**4/(x**5 + 1)"
      ]
     },
     "execution_count": 228,
     "metadata": {},
     "output_type": "execute_result"
    }
   ],
   "source": [
    "# 1f)\n",
    "\n",
    "sp.diff(sp.log((x**5+1)), x)"
   ]
  },
  {
   "cell_type": "code",
   "execution_count": 229,
   "id": "5e55a787-32e1-4e16-b404-abc196f28d27",
   "metadata": {},
   "outputs": [
    {
     "data": {
      "text/latex": [
       "$\\displaystyle \\left(8 x + 8\\right) e^{4 x^{2} + 8 x}$"
      ],
      "text/plain": [
       "(8*x + 8)*exp(4*x**2 + 8*x)"
      ]
     },
     "execution_count": 229,
     "metadata": {},
     "output_type": "execute_result"
    }
   ],
   "source": [
    "# 1g)\n",
    "\n",
    "sp.diff(sp.exp(4*x**2+8*x), x)"
   ]
  },
  {
   "cell_type": "code",
   "execution_count": 230,
   "id": "efc80d0e-6053-4921-9dff-57a1c925c7ff",
   "metadata": {},
   "outputs": [
    {
     "data": {
      "text/latex": [
       "$\\displaystyle - \\frac{1}{x}$"
      ],
      "text/plain": [
       "-1/x"
      ]
     },
     "execution_count": 230,
     "metadata": {},
     "output_type": "execute_result"
    }
   ],
   "source": [
    "# 1h)\n",
    "\n",
    "sp.diff(sp.log((1/x)), x)"
   ]
  },
  {
   "cell_type": "code",
   "execution_count": 234,
   "id": "dc3375df-a008-4d9c-8336-7ae476861ef6",
   "metadata": {},
   "outputs": [
    {
     "data": {
      "text/latex": [
       "$\\displaystyle \\frac{6 \\cdot \\left(12 e^{4 x} + 1\\right)}{x + 3 e^{4 x}}$"
      ],
      "text/plain": [
       "6*(12*exp(4*x) + 1)/(x + 3*exp(4*x))"
      ]
     },
     "execution_count": 234,
     "metadata": {},
     "output_type": "execute_result"
    }
   ],
   "source": [
    "# 1i)\n",
    "\n",
    "sp.diff(6*sp.log(x+3*sp.exp(4*x)), x)"
   ]
  },
  {
   "cell_type": "code",
   "execution_count": 235,
   "id": "6bdf1cf8-d91e-492c-b788-b487bf95f8c1",
   "metadata": {},
   "outputs": [
    {
     "data": {
      "text/latex": [
       "$\\displaystyle - x e^{- x} + e^{- x}$"
      ],
      "text/plain": [
       "-x*exp(-x) + exp(-x)"
      ]
     },
     "execution_count": 235,
     "metadata": {},
     "output_type": "execute_result"
    }
   ],
   "source": [
    "# 1j)\n",
    "\n",
    "sp.diff(x*sp.exp(-x), x)"
   ]
  },
  {
   "cell_type": "code",
   "execution_count": 236,
   "id": "be08caf5-164f-4902-a3b5-508bec495d91",
   "metadata": {},
   "outputs": [
    {
     "data": {
      "text/latex": [
       "$\\displaystyle \\frac{2 x^{3}}{x^{2} + 2} + 2 x \\log{\\left(x^{2} + 2 \\right)}$"
      ],
      "text/plain": [
       "2*x**3/(x**2 + 2) + 2*x*log(x**2 + 2)"
      ]
     },
     "execution_count": 236,
     "metadata": {},
     "output_type": "execute_result"
    }
   ],
   "source": [
    "# 1k)\n",
    "\n",
    "sp.diff(x**2*sp.log((x**2+2)), x)"
   ]
  },
  {
   "cell_type": "code",
   "execution_count": 237,
   "id": "fcf32d87-d430-4ab4-9347-2b8ed16d6f08",
   "metadata": {},
   "outputs": [
    {
     "data": {
      "text/latex": [
       "$\\displaystyle 2 x^{3} e^{2 x} + 3 x^{2} e^{2 x}$"
      ],
      "text/plain": [
       "2*x**3*exp(2*x) + 3*x**2*exp(2*x)"
      ]
     },
     "execution_count": 237,
     "metadata": {},
     "output_type": "execute_result"
    }
   ],
   "source": [
    "# 2a)\n",
    "\n",
    "sp.diff(x**3*sp.exp(2*x), x)"
   ]
  },
  {
   "cell_type": "code",
   "execution_count": 238,
   "id": "cf05401d-1c6b-4371-8521-953863192df1",
   "metadata": {},
   "outputs": [
    {
     "data": {
      "text/latex": [
       "$\\displaystyle \\frac{2 x + \\frac{2}{x^{3}}}{x^{2} + 1 - \\frac{1}{x^{2}}}$"
      ],
      "text/plain": [
       "(2*x + 2/x**3)/(x**2 + 1 - 1/x**2)"
      ]
     },
     "execution_count": 238,
     "metadata": {},
     "output_type": "execute_result"
    }
   ],
   "source": [
    "# 2b)\n",
    "\n",
    "sp.diff(sp.log((x**2-1/x**2+1)), x)"
   ]
  },
  {
   "cell_type": "code",
   "execution_count": 239,
   "id": "ca8b4bf3-00f4-4a65-9b1c-996aeb2677ff",
   "metadata": {},
   "outputs": [
    {
     "data": {
      "text/latex": [
       "$\\displaystyle \\frac{2 x^{3}}{x^{2} + 2} + 2 x \\log{\\left(x^{2} + 2 \\right)}$"
      ],
      "text/plain": [
       "2*x**3/(x**2 + 2) + 2*x*log(x**2 + 2)"
      ]
     },
     "execution_count": 239,
     "metadata": {},
     "output_type": "execute_result"
    }
   ],
   "source": [
    "# 2c)\n",
    "\n",
    "sp.diff(x**2*sp.log((x**2+2)), x)"
   ]
  },
  {
   "cell_type": "code",
   "execution_count": 241,
   "id": "a2acd135-1250-4de3-bca8-e3d030a10171",
   "metadata": {},
   "outputs": [
    {
     "data": {
      "text/latex": [
       "$\\displaystyle - \\frac{e^{- x}}{x^{2}} - \\frac{2 e^{- x}}{x^{3}}$"
      ],
      "text/plain": [
       "-exp(-x)/x**2 - 2*exp(-x)/x**3"
      ]
     },
     "execution_count": 241,
     "metadata": {},
     "output_type": "execute_result"
    }
   ],
   "source": [
    "# 2d)\n",
    "\n",
    "sp.diff(sp.exp(-x)/x**2+1, x)"
   ]
  },
  {
   "cell_type": "code",
   "execution_count": null,
   "id": "9dbac9bd-d51b-4aa0-a14e-b01ccb972f07",
   "metadata": {},
   "outputs": [],
   "source": []
  }
 ],
 "metadata": {
  "kernelspec": {
   "display_name": "Python 3 (ipykernel)",
   "language": "python",
   "name": "python3"
  },
  "language_info": {
   "codemirror_mode": {
    "name": "ipython",
    "version": 3
   },
   "file_extension": ".py",
   "mimetype": "text/x-python",
   "name": "python",
   "nbconvert_exporter": "python",
   "pygments_lexer": "ipython3",
   "version": "3.9.13"
  }
 },
 "nbformat": 4,
 "nbformat_minor": 5
}
