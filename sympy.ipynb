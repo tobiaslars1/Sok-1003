{
 "cells": [
  {
   "cell_type": "code",
   "execution_count": 1,
   "id": "9c2b80f8-40ec-49eb-8203-4cffbf06990c",
   "metadata": {
    "tags": []
   },
   "outputs": [
    {
     "ename": "ModuleNotFoundError",
     "evalue": "No module named 'sympy'",
     "output_type": "error",
     "traceback": [
      "\u001b[0;31m---------------------------------------------------------------------------\u001b[0m",
      "\u001b[0;31mModuleNotFoundError\u001b[0m                       Traceback (most recent call last)",
      "Cell \u001b[0;32mIn [1], line 2\u001b[0m\n\u001b[1;32m      1\u001b[0m \u001b[39m##Importerer pakker.\u001b[39;00m\n\u001b[0;32m----> 2\u001b[0m \u001b[39mimport\u001b[39;00m \u001b[39msympy\u001b[39;00m \u001b[39mas\u001b[39;00m \u001b[39msp\u001b[39;00m\n\u001b[1;32m      3\u001b[0m \u001b[39mfrom\u001b[39;00m \u001b[39msympy\u001b[39;00m\u001b[39m.\u001b[39;00m\u001b[39msolvers\u001b[39;00m \u001b[39mimport\u001b[39;00m solve\n",
      "\u001b[0;31mModuleNotFoundError\u001b[0m: No module named 'sympy'"
     ]
    }
   ],
   "source": [
    "##Importerer pakker.\n",
    "import sympy as sp\n",
    "from sympy.solvers import solve"
   ]
  },
  {
   "cell_type": "code",
   "execution_count": null,
   "id": "c8fbcc72-a69a-442f-9ad4-08810624f7b4",
   "metadata": {},
   "outputs": [],
   "source": [
    "x, y = sp.symbols(\"x y\") #symbol\n",
    "unknown = [x, y] #ukjente"
   ]
  },
  {
   "cell_type": "code",
   "execution_count": null,
   "id": "b75030a4-581b-4ed6-9d81-e0aea1294df5",
   "metadata": {},
   "outputs": [],
   "source": [
    "## Likningssett 15"
   ]
  },
  {
   "cell_type": "code",
   "execution_count": null,
   "id": "75361130-ac11-45db-bad3-49436b40d985",
   "metadata": {
    "tags": []
   },
   "outputs": [
    {
     "data": {
      "text/plain": [
       "{x: 4, y: 0}"
      ]
     },
     "execution_count": 4,
     "metadata": {},
     "output_type": "execute_result"
    }
   ],
   "source": [
    "#2a)\n",
    "\n",
    "eq_1 = sp.Eq(3*x-12, -6*y)\n",
    "eq_2 = sp.Eq(4*x-8*y, 16)\n",
    "sp.solve([eq_1, eq_2], unknown)"
   ]
  },
  {
   "cell_type": "code",
   "execution_count": null,
   "id": "1ded0d1f-5a0c-4917-8a73-4a02291689fd",
   "metadata": {},
   "outputs": [
    {
     "data": {
      "text/plain": [
       "[(-15/2, 31/4), (2, 3)]"
      ]
     },
     "execution_count": 5,
     "metadata": {},
     "output_type": "execute_result"
    }
   ],
   "source": [
    "#2b)\n",
    "\n",
    "eq_1 = sp.Eq(x**2+4*x-3, 3*y)\n",
    "eq_2 = sp.Eq(2*y, 8 - x)\n",
    "sp.solve([eq_1, eq_2], unknown)"
   ]
  },
  {
   "cell_type": "code",
   "execution_count": null,
   "id": "2c891096-91be-4451-97aa-9aaf10a6c643",
   "metadata": {},
   "outputs": [],
   "source": [
    "## Likningssett 16 "
   ]
  },
  {
   "cell_type": "code",
   "execution_count": null,
   "id": "5538231c-0cbb-4993-9f32-fc1373bd9f67",
   "metadata": {},
   "outputs": [
    {
     "data": {
      "text/plain": [
       "{x: 2, y: 2}"
      ]
     },
     "execution_count": 6,
     "metadata": {},
     "output_type": "execute_result"
    }
   ],
   "source": [
    "#1a) \n",
    "\n",
    "eq_1 = sp.Eq(4*x+2*y, 12)\n",
    "eq_2 = sp.Eq(6*x-2*y, 8)\n",
    "sp.solve([eq_1, eq_2], unknown)"
   ]
  },
  {
   "cell_type": "code",
   "execution_count": null,
   "id": "35694fe9-c86e-48c8-a789-2b364659930b",
   "metadata": {},
   "outputs": [
    {
     "data": {
      "text/plain": [
       "[(0, -5), (12, 1)]"
      ]
     },
     "execution_count": 7,
     "metadata": {},
     "output_type": "execute_result"
    }
   ],
   "source": [
    "#1b)\n",
    "\n",
    "eq_1 = sp.Eq(2*x+y**2, 25)\n",
    "eq_2 = sp.Eq(x-2*y, 10)\n",
    "sp.solve([eq_1, eq_2], unknown)"
   ]
  },
  {
   "cell_type": "code",
   "execution_count": null,
   "id": "e85f1a82-6a77-4065-b2de-990b109fce85",
   "metadata": {},
   "outputs": [
    {
     "data": {
      "text/plain": [
       "{x: 4, y: 2}"
      ]
     },
     "execution_count": 8,
     "metadata": {},
     "output_type": "execute_result"
    }
   ],
   "source": [
    "#2a)\n",
    "\n",
    "eq_1 = sp.Eq(4*x-4*y, 8)\n",
    "eq_2 = sp.Eq(9*x-5*y, 26)\n",
    "sp.solve([eq_1, eq_2], unknown)"
   ]
  },
  {
   "cell_type": "code",
   "execution_count": null,
   "id": "be45b3f3-bab4-4e68-b6bd-53f34882dea7",
   "metadata": {},
   "outputs": [
    {
     "data": {
      "text/plain": [
       "[(-9, -2*sqrt(3)), (-9, 2*sqrt(3)), (7, -2), (7, 2)]"
      ]
     },
     "execution_count": 9,
     "metadata": {},
     "output_type": "execute_result"
    }
   ],
   "source": [
    "#2b)\n",
    "\n",
    "eq_1 = sp.Eq(x+2*y**2, 15)\n",
    "eq_2 = sp.Eq(x**2-4*y**2, 33)\n",
    "sp.solve([eq_1, eq_2], unknown)"
   ]
  },
  {
   "cell_type": "code",
   "execution_count": null,
   "id": "ce6de0ab-a727-44ec-bc8a-8ae53270eeef",
   "metadata": {},
   "outputs": [],
   "source": [
    "# Likningssett 17"
   ]
  },
  {
   "cell_type": "code",
   "execution_count": null,
   "id": "92ae243e-a55e-466a-a674-38787be4f111",
   "metadata": {},
   "outputs": [
    {
     "data": {
      "text/plain": [
       "[(0, -4), (0, 4), (15, -1), (15, 1)]"
      ]
     },
     "execution_count": 14,
     "metadata": {},
     "output_type": "execute_result"
    }
   ],
   "source": [
    "#1a)\n",
    " \n",
    "eq_1 = sp.Eq(x*y**2-x, 0)\n",
    "eq_2 = sp.Eq(x+y**2, 16)\n",
    "sp.solve([eq_1, eq_2], unknown)"
   ]
  },
  {
   "cell_type": "code",
   "execution_count": null,
   "id": "12ba7507-007e-4120-9f87-c5cd19629b8a",
   "metadata": {},
   "outputs": [
    {
     "data": {
      "text/plain": [
       "[(-10, 0), (-6, -8), (-6, 8), (6, -8), (6, 8), (10, 0)]"
      ]
     },
     "execution_count": 11,
     "metadata": {},
     "output_type": "execute_result"
    }
   ],
   "source": [
    "#1b)\n",
    "\n",
    "eq_1 = sp.Eq(x**2+y**2, 100)\n",
    "eq_2 = sp.Eq(x**2*y-36*y, 0)\n",
    "sp.solve([eq_1, eq_2], unknown)"
   ]
  },
  {
   "cell_type": "code",
   "execution_count": null,
   "id": "a4615cee-8cf4-4e3f-ac33-e4672584e94c",
   "metadata": {},
   "outputs": [
    {
     "data": {
      "text/plain": [
       "[(-3, -7), (-3, 7), (0, -sqrt(58)), (0, sqrt(58)), (3, -7), (3, 7)]"
      ]
     },
     "execution_count": 35,
     "metadata": {},
     "output_type": "execute_result"
    }
   ],
   "source": [
    "#2a)\n",
    "\n",
    "eq_1 = sp.Eq(x*y**2-49*x, 0)\n",
    "eq_2 = sp.Eq(x**2+y**2, 58)\n",
    "sp.solve([eq_1, eq_2], unknown)"
   ]
  },
  {
   "cell_type": "code",
   "execution_count": null,
   "id": "01aeca40-51aa-4706-9838-e7093d26cc8e",
   "metadata": {},
   "outputs": [
    {
     "data": {
      "text/plain": [
       "[(-1.11803398874989, 0.0),\n",
       " (-0.500000000000000, -1.00000000000000),\n",
       " (-0.500000000000000, 1.00000000000000),\n",
       " (1.11803398874989, 0.0)]"
      ]
     },
     "execution_count": 15,
     "metadata": {},
     "output_type": "execute_result"
    }
   ],
   "source": [
    "#2b)\n",
    "\n",
    "eq_1 = sp.Eq(x**2+y**2, 5/4)\n",
    "eq_2 = sp.Eq(2*x*y+y, 0)\n",
    "sp.solve([eq_1, eq_2], unknown)"
   ]
  },
  {
   "cell_type": "code",
   "execution_count": null,
   "id": "40c3e4c8-d965-4a28-8405-e74bc4f8d25d",
   "metadata": {},
   "outputs": [],
   "source": [
    "# likningssett 19"
   ]
  },
  {
   "cell_type": "code",
   "execution_count": null,
   "id": "c6391394-0c20-47f1-be33-3aeb3a02fc19",
   "metadata": {},
   "outputs": [
    {
     "data": {
      "text/latex": [
       "$\\displaystyle 5 x^{4}$"
      ],
      "text/plain": [
       "5*x**4"
      ]
     },
     "execution_count": 22,
     "metadata": {},
     "output_type": "execute_result"
    }
   ],
   "source": [
    "# 1a)\n",
    "\n",
    "sp.diff(x**5, x)"
   ]
  },
  {
   "cell_type": "code",
   "execution_count": null,
   "id": "ff4ec5e8-5f5f-4a59-a08c-63bd34160c61",
   "metadata": {},
   "outputs": [
    {
     "data": {
      "text/latex": [
       "$\\displaystyle 1$"
      ],
      "text/plain": [
       "1"
      ]
     },
     "execution_count": 25,
     "metadata": {},
     "output_type": "execute_result"
    }
   ],
   "source": [
    "# 1b)\n",
    "\n",
    "sp.diff(x+12, x)"
   ]
  },
  {
   "cell_type": "code",
   "execution_count": null,
   "id": "edf27965-bef7-4a5d-ba5b-9be504e81106",
   "metadata": {},
   "outputs": [
    {
     "data": {
      "text/latex": [
       "$\\displaystyle 3 x^{2} + 8 x$"
      ],
      "text/plain": [
       "3*x**2 + 8*x"
      ]
     },
     "execution_count": 26,
     "metadata": {},
     "output_type": "execute_result"
    }
   ],
   "source": [
    "# 1c)\n",
    "\n",
    "sp.diff(x**3+4*x**2, x)"
   ]
  },
  {
   "cell_type": "code",
   "execution_count": null,
   "id": "169af96e-a2c0-4211-b9a7-31dfd53bc806",
   "metadata": {},
   "outputs": [
    {
     "data": {
      "text/latex": [
       "$\\displaystyle 6 x^{2}$"
      ],
      "text/plain": [
       "6*x**2"
      ]
     },
     "execution_count": 27,
     "metadata": {},
     "output_type": "execute_result"
    }
   ],
   "source": [
    "# 1d)\n",
    "\n",
    "sp.diff(2*x**3+sp.sqrt(36), x)"
   ]
  },
  {
   "cell_type": "code",
   "execution_count": null,
   "id": "cb1d99f0-3379-4bc6-a30d-36a055ed0ca4",
   "metadata": {},
   "outputs": [
    {
     "data": {
      "text/latex": [
       "$\\displaystyle \\frac{1}{2 \\sqrt{x}}$"
      ],
      "text/plain": [
       "1/(2*sqrt(x))"
      ]
     },
     "execution_count": 28,
     "metadata": {},
     "output_type": "execute_result"
    }
   ],
   "source": [
    "# 1e)\n",
    "\n",
    "sp.diff(sp.sqrt(x)+5**2, x)"
   ]
  },
  {
   "cell_type": "code",
   "execution_count": null,
   "id": "2864a212-6bf6-43c0-a9e7-e64326cf2d48",
   "metadata": {},
   "outputs": [
    {
     "data": {
      "text/latex": [
       "$\\displaystyle 3 x^{2} - \\frac{1}{x^{2}}$"
      ],
      "text/plain": [
       "3*x**2 - 1/x**2"
      ]
     },
     "execution_count": 29,
     "metadata": {},
     "output_type": "execute_result"
    }
   ],
   "source": [
    "# 1f)\n",
    "\n",
    "sp.diff(x**3+1/x, x)"
   ]
  },
  {
   "cell_type": "code",
   "execution_count": null,
   "id": "1df49a02-55b1-48c8-abb3-f25fa7e095a3",
   "metadata": {},
   "outputs": [
    {
     "data": {
      "text/latex": [
       "$\\displaystyle 3 x^{2} - 2 x + 0.25$"
      ],
      "text/plain": [
       "3*x**2 - 2*x + 0.25"
      ]
     },
     "execution_count": 30,
     "metadata": {},
     "output_type": "execute_result"
    }
   ],
   "source": [
    "# 1g) \n",
    "\n",
    "sp.diff(x**3-x**2+1/4*x, x)"
   ]
  },
  {
   "cell_type": "code",
   "execution_count": null,
   "id": "e009b9cc-142e-4a0c-9301-c55b4a1a266f",
   "metadata": {},
   "outputs": [
    {
     "data": {
      "text/latex": [
       "$\\displaystyle 36 x^{5} - \\frac{1}{x^{2}}$"
      ],
      "text/plain": [
       "36*x**5 - 1/x**2"
      ]
     },
     "execution_count": 26,
     "metadata": {},
     "output_type": "execute_result"
    }
   ],
   "source": [
    "# 2a)\n",
    "\n",
    "sp.diff(1/x+6*x**6, x)"
   ]
  },
  {
   "cell_type": "code",
   "execution_count": null,
   "id": "d4f4db26-659e-4667-9f4d-492eaa4af0be",
   "metadata": {},
   "outputs": [],
   "source": [
    "# 2b)\n",
    "\n",
    "sp.diff(-x+1/2*x**3, x)"
   ]
  },
  {
   "cell_type": "code",
   "execution_count": null,
   "id": "e428cdfd-baab-4789-84cf-39839a70b3e2",
   "metadata": {},
   "outputs": [],
   "source": [
    "# Likningssett 20"
   ]
  },
  {
   "cell_type": "code",
   "execution_count": null,
   "id": "b75958ed",
   "metadata": {},
   "outputs": [],
   "source": [
    "# 1e)\n",
    "\n",
    "sp.diff(x**4*x**5, x)"
   ]
  },
  {
   "cell_type": "code",
   "execution_count": null,
   "id": "6a19835c",
   "metadata": {},
   "outputs": [],
   "source": [
    "# 1f)\n",
    "\n",
    "sp.diff(x*sp.sqrt(x), x)"
   ]
  },
  {
   "cell_type": "code",
   "execution_count": null,
   "id": "d3bbdd52",
   "metadata": {},
   "outputs": [],
   "source": [
    "# 1g)\n",
    "\n",
    "sp.diff(2/x**3, x)"
   ]
  },
  {
   "cell_type": "code",
   "execution_count": null,
   "id": "68abb5c1",
   "metadata": {},
   "outputs": [],
   "source": [
    "# 1h)\n",
    "\n",
    "sp.diff(x**2-2/x**3, x)"
   ]
  },
  {
   "cell_type": "code",
   "execution_count": null,
   "id": "28f41041",
   "metadata": {},
   "outputs": [],
   "source": [
    "# 1i)\n",
    "\n",
    "sp.diff(sp.sqrt(x)*x**6)"
   ]
  },
  {
   "cell_type": "code",
   "execution_count": null,
   "id": "6d333853",
   "metadata": {},
   "outputs": [],
   "source": [
    "# 1j)\n",
    "\n",
    "sp.diff(x*(x**2+1), x)"
   ]
  },
  {
   "cell_type": "code",
   "execution_count": null,
   "id": "0394bbde",
   "metadata": {},
   "outputs": [],
   "source": [
    "# 1k)\n",
    "\n",
    "sp.diff(x**2+4/x**3-1, x)"
   ]
  },
  {
   "cell_type": "code",
   "execution_count": null,
   "id": "e71f02ad",
   "metadata": {},
   "outputs": [],
   "source": [
    "# 1l)\n",
    "\n",
    "sp.diff(x**2/x**2+2*x, x)"
   ]
  },
  {
   "cell_type": "code",
   "execution_count": null,
   "id": "444352da",
   "metadata": {},
   "outputs": [],
   "source": [
    "# 1m)\n",
    "\n",
    "sp.diff(x**2+4*x+2/x-2, x)"
   ]
  },
  {
   "cell_type": "code",
   "execution_count": null,
   "id": "2eeceaa1",
   "metadata": {},
   "outputs": [],
   "source": [
    "# 2a)\n",
    "\n",
    "sp.diff(x**3-2*x/x**2-1, x)"
   ]
  },
  {
   "cell_type": "code",
   "execution_count": null,
   "id": "c1c914a8",
   "metadata": {},
   "outputs": [],
   "source": [
    "# 2b)\n",
    "\n",
    "sp.diff((x**2+1)(x**2-1), x)"
   ]
  },
  {
   "cell_type": "code",
   "execution_count": null,
   "id": "d59230c7",
   "metadata": {},
   "outputs": [],
   "source": [
    "# 2c)\n",
    "\n",
    "sp.diff(3*x-4/x**3+7, x)"
   ]
  },
  {
   "cell_type": "code",
   "execution_count": null,
   "id": "329a6ee3",
   "metadata": {},
   "outputs": [],
   "source": [
    "# Likningssett 21"
   ]
  },
  {
   "cell_type": "code",
   "execution_count": null,
   "id": "8bfab665",
   "metadata": {},
   "outputs": [],
   "source": [
    "# 1a)\n",
    "\n",
    "sp.diff((x**3+6*x)**5, x)"
   ]
  },
  {
   "cell_type": "code",
   "execution_count": null,
   "id": "8ec4ae30",
   "metadata": {},
   "outputs": [],
   "source": [
    "# 1b)\n",
    "\n",
    "sp.diff(sp.sqrt(2*x**2+5), x)"
   ]
  },
  {
   "cell_type": "code",
   "execution_count": null,
   "id": "cb94a022",
   "metadata": {},
   "outputs": [],
   "source": [
    "# 1c)\n",
    "\n",
    "sp.diff((2*x/x**2+3)**4, x)"
   ]
  },
  {
   "cell_type": "code",
   "execution_count": null,
   "id": "f9c50570",
   "metadata": {},
   "outputs": [],
   "source": [
    "# 1d)\n",
    "\n",
    "sp.diff((2*x**4+9)**(3/2), x)"
   ]
  },
  {
   "cell_type": "code",
   "execution_count": null,
   "id": "d8256271",
   "metadata": {},
   "outputs": [],
   "source": [
    "# 1e)\n",
    "\n",
    "sp.diff(1/sp.sqrt(1+x**2), x)"
   ]
  },
  {
   "cell_type": "code",
   "execution_count": null,
   "id": "96a469f4",
   "metadata": {},
   "outputs": [],
   "source": [
    "# 1f)\n",
    "\n",
    "sp.diff(x**2*(x**2+2*x)**3, x)"
   ]
  },
  {
   "cell_type": "code",
   "execution_count": null,
   "id": "1c7e8c60",
   "metadata": {},
   "outputs": [],
   "source": [
    "# 1g)\n",
    "\n",
    "sp.diff(x**2*sp.sqrt(x**2-2*x), x)"
   ]
  },
  {
   "cell_type": "code",
   "execution_count": null,
   "id": "928d89b7",
   "metadata": {},
   "outputs": [],
   "source": [
    "# 1h)\n",
    "\n",
    "sp.diff(x**2/(x**2+x)**3, x)"
   ]
  },
  {
   "cell_type": "code",
   "execution_count": null,
   "id": "5029e048",
   "metadata": {},
   "outputs": [],
   "source": [
    "# 1i)\n",
    "\n",
    "sp.diff((x**2+1)**2*(x**3+1)**3, x)"
   ]
  }
 ],
 "metadata": {
  "kernelspec": {
   "display_name": "Python 3.10.8 64-bit",
   "language": "python",
   "name": "python3"
  },
  "language_info": {
   "codemirror_mode": {
    "name": "ipython",
    "version": 3
   },
   "file_extension": ".py",
   "mimetype": "text/x-python",
   "name": "python",
   "nbconvert_exporter": "python",
   "pygments_lexer": "ipython3",
   "version": "3.10.8"
  },
  "vscode": {
   "interpreter": {
    "hash": "b0fa6594d8f4cbf19f97940f81e996739fb7646882a419484c72d19e05852a7e"
   }
  }
 },
 "nbformat": 4,
 "nbformat_minor": 5
}
